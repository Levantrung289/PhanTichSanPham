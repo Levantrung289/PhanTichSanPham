{
 "cells": [
  {
   "cell_type": "code",
   "execution_count": 1,
   "id": "c2463211",
   "metadata": {},
   "outputs": [],
   "source": [
    "import numpy as np\n",
    "import pandas as pd\n",
    "from time import sleep\n",
    "\n",
    "from selenium import webdriver\n",
    "from selenium.webdriver.common.by import By\n",
    "from selenium.common.exceptions import NoSuchElementException\n",
    "from selenium.webdriver.chrome.service import Service"
   ]
  },
  {
   "cell_type": "code",
   "execution_count": 2,
   "id": "96190524",
   "metadata": {},
   "outputs": [],
   "source": [
    "driver = webdriver.Chrome(service=Service('Downloads/chromedriver.exe'))"
   ]
  },
  {
   "cell_type": "code",
   "execution_count": 3,
   "id": "b9503d23",
   "metadata": {},
   "outputs": [],
   "source": [
    "#scroll to bottom of web\n",
    "def keep_scrolling_to_the_bottom():\n",
    "    while True:\n",
    "        previous_scrollY = driver.execute_script( 'return window.scrollY' ) # vị trí hiện tại\n",
    "        driver.execute_script('window.scrollBy( 0, 130 )') # scroll 1 khoảng 0-130\n",
    "        sleep(0.4) # time to load\n",
    "        if previous_scrollY == driver.execute_script( 'return window.scrollY' ): # khi nào không thay đổi thì ngưng\n",
    "            break"
   ]
  },
  {
   "cell_type": "code",
   "execution_count": 22,
   "id": "7e507edd",
   "metadata": {},
   "outputs": [],
   "source": [
    "# get link, name, address... information function\n",
    "def get_link_product(url, num_page = 50):\n",
    "    all_links = []\n",
    "    all_names = []\n",
    "    all_address = []\n",
    "    all_price = []\n",
    "    all_sold_num = []\n",
    "    #get link, name and address\n",
    "    for page in range(0,50):\n",
    "    \n",
    "        url_ = url.format(page) #url\n",
    "        driver.get(url_) #get url\n",
    "        sleep(4)\n",
    "        keep_scrolling_to_the_bottom() # scroll to load data\n",
    "        \n",
    "        #get link\n",
    "        link_elements = driver.find_elements(By.CSS_SELECTOR,'.shopee-search-item-result__item [href]')\n",
    "        links = [element.get_attribute('href') for element in link_elements]\n",
    "        all_links += links \n",
    "        \n",
    "\n",
    "        \n",
    "        for item in range(0, 60):\n",
    "            \n",
    "            #get name\n",
    "            try:\n",
    "                name_element = driver.find_element('xpath',\n",
    "                '/html/body/div[1]/div/div[2]/div/div/div[2]/div[2]/div[2]/div[{}]/a/div/div/div[2]/div[1]/div[1]/div'.format(item+1))\n",
    "                name = name_element.text\n",
    "                all_names.append(name)\n",
    "            except NoSuchElementException:\n",
    "                all_names.append('No Name')\n",
    "            #get address\n",
    "            try:\n",
    "                address_element = driver.find_element('xpath',\n",
    "                '/html/body/div[1]/div/div[2]/div/div/div[2]/div[2]/div[2]/div[{}]/a/div/div/div[2]/div[4]'.format(item+1))\n",
    "                address = address_element.text\n",
    "                all_address.append(address)\n",
    "            except NoSuchElementException:\n",
    "                all_names.append('No address')\n",
    "            \n",
    "            #get price\n",
    "            try:\n",
    "                price_element = driver.find_element('xpath',\n",
    "                '/html/body/div[1]/div/div[2]/div/div/div[2]/div[2]/div[2]/div[{}]/a/div/div/div[2]/div[2]'.format(item+1))\n",
    "                price = price_element.text\n",
    "                all_price.append(price)\n",
    "            except NoSuchElementException:\n",
    "                all_price.append(0)\n",
    "            \n",
    "            #get sold_num\n",
    "            try:\n",
    "                sold_num_element = driver.find_element('xpath',\n",
    "                '/html/body/div[1]/div/div[2]/div/div/div[2]/div[2]/div[2]/div[{}]/a/div/div/div[2]/div[3]/div[2]'.format(item+1))\n",
    "                sold_num = sold_num_element.text\n",
    "                all_sold_num.append(sold_num)\n",
    "            except NoSuchElementException:\n",
    "                all_sold_num.append(0)\n",
    "           \n",
    "            \n",
    "    \n",
    "    return all_links, all_names, all_address,  all_price, all_sold_num "
   ]
  },
  {
   "cell_type": "code",
   "execution_count": 23,
   "id": "a9fb57fd",
   "metadata": {},
   "outputs": [],
   "source": [
    "def df_product(url, df_name, product):\n",
    "    #create dataframe\n",
    "    all_links, all_names, all_address, all_price, all_sold_num = get_link_product(url = url,\n",
    "                                                         num_page = 50)\n",
    "    df = pd.DataFrame(zip(all_links, all_names, all_address, all_price, all_sold_num),\n",
    "                      columns = ['Link', 'Name','Address', 'Price','Sold_num'])\n",
    "    df['Product'] = product\n",
    "    df.to_csv('Downloads/'+df_name)\n",
    "    return df"
   ]
  },
  {
   "cell_type": "code",
   "execution_count": 24,
   "id": "4593d577",
   "metadata": {},
   "outputs": [],
   "source": [
    "#7 products\n",
    "list_product = []\n",
    "products = ['Giày Đá Bóng','Khăn', 'Dép', 'Quần', 'Áo','Mũ','Vòng Tay']\n",
    "urls = ['https://shopee.vn/search?keyword=gi%C3%A0y%20%C4%91%C3%A1%20b%C3%B3ng&page={}',\n",
    "        'https://shopee.vn/search?keyword=kh%C4%83n&page={}',\n",
    "        'https://shopee.vn/search?keyword=d%C3%A9p&page={}',\n",
    "        'https://shopee.vn/search?keyword=qu%E1%BA%A7n%20t%E1%BB%91t&page={}',\n",
    "        'https://shopee.vn/search?keyword=%C3%A1o&page={}',\n",
    "        'https://shopee.vn/search?keyword=m%C5%A9&page={}',\n",
    "        'https://shopee.vn/search?keyword=v%C3%B2ng%20tay&page={}']\n",
    "df_names = ['list_giay', 'list_caogot','list_dep','list_quan','list_ao','list_mu','list_vongtay']\n",
    "for temp in range(0,7):\n",
    "    list_product.append(df_product(url = urls[temp], df_name = df_names[temp],\n",
    "                                   product = products[temp]))\n"
   ]
  },
  {
   "cell_type": "code",
   "execution_count": null,
   "id": "afbf97c5",
   "metadata": {},
   "outputs": [],
   "source": [
    "df = pd.concat(list_product)\n",
    "df.head()"
   ]
  },
  {
   "cell_type": "code",
   "execution_count": null,
   "id": "b5fb1f63",
   "metadata": {},
   "outputs": [],
   "source": [
    "df.to_csv('Downloads/df_product')"
   ]
  }
 ],
 "metadata": {
  "kernelspec": {
   "display_name": "Python 3",
   "language": "python",
   "name": "python3"
  },
  "language_info": {
   "codemirror_mode": {
    "name": "ipython",
    "version": 3
   },
   "file_extension": ".py",
   "mimetype": "text/x-python",
   "name": "python",
   "nbconvert_exporter": "python",
   "pygments_lexer": "ipython3",
   "version": "3.8.8"
  }
 },
 "nbformat": 4,
 "nbformat_minor": 5
}
